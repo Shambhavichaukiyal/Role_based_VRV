{
 "cells": [
  {
   "cell_type": "code",
   "execution_count": 1,
   "metadata": {},
   "outputs": [],
   "source": [
    "from flask import Flask\n",
    "\n",
    "app = Flask(__name__)\n",
    "app.config['SQLALCHEMY_DATABASE_URI'] = 'sqlite:///users.db'\n",
    "app.config['JWT_SECRET_KEY'] = '#Somya2003'"
   ]
  },
  {
   "cell_type": "code",
   "execution_count": 2,
   "metadata": {},
   "outputs": [
    {
     "name": "stdout",
     "output_type": "stream",
     "text": [
      "Requirement already satisfied: flask in c:\\users\\91897\\appdata\\local\\programs\\python\\python311\\lib\\site-packages (3.0.3)\n",
      "Requirement already satisfied: Werkzeug>=3.0.0 in c:\\users\\91897\\appdata\\local\\programs\\python\\python311\\lib\\site-packages (from flask) (3.0.1)\n",
      "Requirement already satisfied: Jinja2>=3.1.2 in c:\\users\\91897\\appdata\\local\\programs\\python\\python311\\lib\\site-packages (from flask) (3.1.3)\n",
      "Requirement already satisfied: itsdangerous>=2.1.2 in c:\\users\\91897\\appdata\\local\\programs\\python\\python311\\lib\\site-packages (from flask) (2.2.0)\n",
      "Requirement already satisfied: click>=8.1.3 in c:\\users\\91897\\appdata\\local\\programs\\python\\python311\\lib\\site-packages (from flask) (8.1.7)\n",
      "Requirement already satisfied: blinker>=1.6.2 in c:\\users\\91897\\appdata\\local\\programs\\python\\python311\\lib\\site-packages (from flask) (1.7.0)\n",
      "Requirement already satisfied: colorama in c:\\users\\91897\\appdata\\roaming\\python\\python311\\site-packages (from click>=8.1.3->flask) (0.4.6)\n",
      "Requirement already satisfied: MarkupSafe>=2.0 in c:\\users\\91897\\appdata\\local\\programs\\python\\python311\\lib\\site-packages (from Jinja2>=3.1.2->flask) (2.1.5)\n"
     ]
    },
    {
     "name": "stderr",
     "output_type": "stream",
     "text": [
      "WARNING: Ignoring invalid distribution ~ip (C:\\Users\\91897\\AppData\\Local\\Programs\\Python\\Python311\\Lib\\site-packages)\n",
      "WARNING: Ignoring invalid distribution ~ip (C:\\Users\\91897\\AppData\\Local\\Programs\\Python\\Python311\\Lib\\site-packages)\n",
      "WARNING: Ignoring invalid distribution ~ip (C:\\Users\\91897\\AppData\\Local\\Programs\\Python\\Python311\\Lib\\site-packages)\n"
     ]
    },
    {
     "name": "stdout",
     "output_type": "stream",
     "text": [
      "Requirement already satisfied: flask_sqlalchemy in c:\\users\\91897\\appdata\\local\\programs\\python\\python311\\lib\\site-packages (3.1.1)\n",
      "Requirement already satisfied: flask>=2.2.5 in c:\\users\\91897\\appdata\\local\\programs\\python\\python311\\lib\\site-packages (from flask_sqlalchemy) (3.0.3)\n",
      "Requirement already satisfied: sqlalchemy>=2.0.16 in c:\\users\\91897\\appdata\\local\\programs\\python\\python311\\lib\\site-packages (from flask_sqlalchemy) (2.0.27)\n",
      "Requirement already satisfied: Werkzeug>=3.0.0 in c:\\users\\91897\\appdata\\local\\programs\\python\\python311\\lib\\site-packages (from flask>=2.2.5->flask_sqlalchemy) (3.0.1)\n",
      "Requirement already satisfied: Jinja2>=3.1.2 in c:\\users\\91897\\appdata\\local\\programs\\python\\python311\\lib\\site-packages (from flask>=2.2.5->flask_sqlalchemy) (3.1.3)\n",
      "Requirement already satisfied: itsdangerous>=2.1.2 in c:\\users\\91897\\appdata\\local\\programs\\python\\python311\\lib\\site-packages (from flask>=2.2.5->flask_sqlalchemy) (2.2.0)\n",
      "Requirement already satisfied: click>=8.1.3 in c:\\users\\91897\\appdata\\local\\programs\\python\\python311\\lib\\site-packages (from flask>=2.2.5->flask_sqlalchemy) (8.1.7)\n",
      "Requirement already satisfied: blinker>=1.6.2 in c:\\users\\91897\\appdata\\local\\programs\\python\\python311\\lib\\site-packages (from flask>=2.2.5->flask_sqlalchemy) (1.7.0)\n",
      "Requirement already satisfied: typing-extensions>=4.6.0 in c:\\users\\91897\\appdata\\local\\programs\\python\\python311\\lib\\site-packages (from sqlalchemy>=2.0.16->flask_sqlalchemy) (4.10.0)\n",
      "Requirement already satisfied: greenlet!=0.4.17 in c:\\users\\91897\\appdata\\local\\programs\\python\\python311\\lib\\site-packages (from sqlalchemy>=2.0.16->flask_sqlalchemy) (3.0.3)\n",
      "Requirement already satisfied: colorama in c:\\users\\91897\\appdata\\roaming\\python\\python311\\site-packages (from click>=8.1.3->flask>=2.2.5->flask_sqlalchemy) (0.4.6)\n",
      "Requirement already satisfied: MarkupSafe>=2.0 in c:\\users\\91897\\appdata\\local\\programs\\python\\python311\\lib\\site-packages (from Jinja2>=3.1.2->flask>=2.2.5->flask_sqlalchemy) (2.1.5)\n"
     ]
    },
    {
     "name": "stderr",
     "output_type": "stream",
     "text": [
      "WARNING: Ignoring invalid distribution ~ip (C:\\Users\\91897\\AppData\\Local\\Programs\\Python\\Python311\\Lib\\site-packages)\n",
      "WARNING: Ignoring invalid distribution ~ip (C:\\Users\\91897\\AppData\\Local\\Programs\\Python\\Python311\\Lib\\site-packages)\n",
      "WARNING: Ignoring invalid distribution ~ip (C:\\Users\\91897\\AppData\\Local\\Programs\\Python\\Python311\\Lib\\site-packages)\n"
     ]
    },
    {
     "name": "stdout",
     "output_type": "stream",
     "text": [
      "Requirement already satisfied: flask_jwt_extended in c:\\users\\91897\\appdata\\local\\programs\\python\\python311\\lib\\site-packages (4.7.1)\n",
      "Requirement already satisfied: Werkzeug>=0.14 in c:\\users\\91897\\appdata\\local\\programs\\python\\python311\\lib\\site-packages (from flask_jwt_extended) (3.0.1)\n",
      "Requirement already satisfied: Flask<4.0,>=2.0 in c:\\users\\91897\\appdata\\local\\programs\\python\\python311\\lib\\site-packages (from flask_jwt_extended) (3.0.3)\n",
      "Requirement already satisfied: PyJWT<3.0,>=2.0 in c:\\users\\91897\\appdata\\local\\programs\\python\\python311\\lib\\site-packages (from flask_jwt_extended) (2.8.0)\n",
      "Requirement already satisfied: Jinja2>=3.1.2 in c:\\users\\91897\\appdata\\local\\programs\\python\\python311\\lib\\site-packages (from Flask<4.0,>=2.0->flask_jwt_extended) (3.1.3)\n",
      "Requirement already satisfied: itsdangerous>=2.1.2 in c:\\users\\91897\\appdata\\local\\programs\\python\\python311\\lib\\site-packages (from Flask<4.0,>=2.0->flask_jwt_extended) (2.2.0)\n",
      "Requirement already satisfied: click>=8.1.3 in c:\\users\\91897\\appdata\\local\\programs\\python\\python311\\lib\\site-packages (from Flask<4.0,>=2.0->flask_jwt_extended) (8.1.7)\n",
      "Requirement already satisfied: blinker>=1.6.2 in c:\\users\\91897\\appdata\\local\\programs\\python\\python311\\lib\\site-packages (from Flask<4.0,>=2.0->flask_jwt_extended) (1.7.0)\n",
      "Requirement already satisfied: MarkupSafe>=2.1.1 in c:\\users\\91897\\appdata\\local\\programs\\python\\python311\\lib\\site-packages (from Werkzeug>=0.14->flask_jwt_extended) (2.1.5)\n",
      "Requirement already satisfied: colorama in c:\\users\\91897\\appdata\\roaming\\python\\python311\\site-packages (from click>=8.1.3->Flask<4.0,>=2.0->flask_jwt_extended) (0.4.6)\n"
     ]
    },
    {
     "name": "stderr",
     "output_type": "stream",
     "text": [
      "WARNING: Ignoring invalid distribution ~ip (C:\\Users\\91897\\AppData\\Local\\Programs\\Python\\Python311\\Lib\\site-packages)\n",
      "WARNING: Ignoring invalid distribution ~ip (C:\\Users\\91897\\AppData\\Local\\Programs\\Python\\Python311\\Lib\\site-packages)\n",
      "WARNING: Ignoring invalid distribution ~ip (C:\\Users\\91897\\AppData\\Local\\Programs\\Python\\Python311\\Lib\\site-packages)\n"
     ]
    },
    {
     "name": "stdout",
     "output_type": "stream",
     "text": [
      "Requirement already satisfied: flask_dance in c:\\users\\91897\\appdata\\local\\programs\\python\\python311\\lib\\site-packages (7.1.0)\n",
      "Requirement already satisfied: requests>=2.0 in c:\\users\\91897\\appdata\\local\\programs\\python\\python311\\lib\\site-packages (from flask_dance) (2.32.3)\n",
      "Requirement already satisfied: oauthlib>=3.2 in c:\\users\\91897\\appdata\\local\\programs\\python\\python311\\lib\\site-packages (from flask_dance) (3.2.2)\n",
      "Requirement already satisfied: requests-oauthlib>=1.0.0 in c:\\users\\91897\\appdata\\local\\programs\\python\\python311\\lib\\site-packages (from flask_dance) (2.0.0)\n",
      "Requirement already satisfied: Flask>=2.0.3 in c:\\users\\91897\\appdata\\local\\programs\\python\\python311\\lib\\site-packages (from flask_dance) (3.0.3)\n",
      "Requirement already satisfied: Werkzeug in c:\\users\\91897\\appdata\\local\\programs\\python\\python311\\lib\\site-packages (from flask_dance) (3.0.1)\n",
      "Requirement already satisfied: urlobject in c:\\users\\91897\\appdata\\local\\programs\\python\\python311\\lib\\site-packages (from flask_dance) (2.4.3)\n",
      "Requirement already satisfied: Jinja2>=3.1.2 in c:\\users\\91897\\appdata\\local\\programs\\python\\python311\\lib\\site-packages (from Flask>=2.0.3->flask_dance) (3.1.3)\n",
      "Requirement already satisfied: itsdangerous>=2.1.2 in c:\\users\\91897\\appdata\\local\\programs\\python\\python311\\lib\\site-packages (from Flask>=2.0.3->flask_dance) (2.2.0)\n",
      "Requirement already satisfied: click>=8.1.3 in c:\\users\\91897\\appdata\\local\\programs\\python\\python311\\lib\\site-packages (from Flask>=2.0.3->flask_dance) (8.1.7)\n",
      "Requirement already satisfied: blinker>=1.6.2 in c:\\users\\91897\\appdata\\local\\programs\\python\\python311\\lib\\site-packages (from Flask>=2.0.3->flask_dance) (1.7.0)\n",
      "Requirement already satisfied: charset-normalizer<4,>=2 in c:\\users\\91897\\appdata\\local\\programs\\python\\python311\\lib\\site-packages (from requests>=2.0->flask_dance) (3.3.2)\n",
      "Requirement already satisfied: idna<4,>=2.5 in c:\\users\\91897\\appdata\\local\\programs\\python\\python311\\lib\\site-packages (from requests>=2.0->flask_dance) (3.6)\n",
      "Requirement already satisfied: urllib3<3,>=1.21.1 in c:\\users\\91897\\appdata\\local\\programs\\python\\python311\\lib\\site-packages (from requests>=2.0->flask_dance) (2.2.1)\n",
      "Requirement already satisfied: certifi>=2017.4.17 in c:\\users\\91897\\appdata\\local\\programs\\python\\python311\\lib\\site-packages (from requests>=2.0->flask_dance) (2024.2.2)\n",
      "Requirement already satisfied: MarkupSafe>=2.1.1 in c:\\users\\91897\\appdata\\local\\programs\\python\\python311\\lib\\site-packages (from Werkzeug->flask_dance) (2.1.5)\n",
      "Requirement already satisfied: colorama in c:\\users\\91897\\appdata\\roaming\\python\\python311\\site-packages (from click>=8.1.3->Flask>=2.0.3->flask_dance) (0.4.6)\n"
     ]
    },
    {
     "name": "stderr",
     "output_type": "stream",
     "text": [
      "WARNING: Ignoring invalid distribution ~ip (C:\\Users\\91897\\AppData\\Local\\Programs\\Python\\Python311\\Lib\\site-packages)\n",
      "WARNING: Ignoring invalid distribution ~ip (C:\\Users\\91897\\AppData\\Local\\Programs\\Python\\Python311\\Lib\\site-packages)\n",
      "WARNING: Ignoring invalid distribution ~ip (C:\\Users\\91897\\AppData\\Local\\Programs\\Python\\Python311\\Lib\\site-packages)\n"
     ]
    },
    {
     "name": "stdout",
     "output_type": "stream",
     "text": [
      "Requirement already satisfied: werkzeug in c:\\users\\91897\\appdata\\local\\programs\\python\\python311\\lib\\site-packages (3.0.1)\n",
      "Requirement already satisfied: MarkupSafe>=2.1.1 in c:\\users\\91897\\appdata\\local\\programs\\python\\python311\\lib\\site-packages (from werkzeug) (2.1.5)\n"
     ]
    },
    {
     "name": "stderr",
     "output_type": "stream",
     "text": [
      "WARNING: Ignoring invalid distribution ~ip (C:\\Users\\91897\\AppData\\Local\\Programs\\Python\\Python311\\Lib\\site-packages)\n",
      "WARNING: Ignoring invalid distribution ~ip (C:\\Users\\91897\\AppData\\Local\\Programs\\Python\\Python311\\Lib\\site-packages)\n",
      "WARNING: Ignoring invalid distribution ~ip (C:\\Users\\91897\\AppData\\Local\\Programs\\Python\\Python311\\Lib\\site-packages)\n"
     ]
    }
   ],
   "source": [
    "!pip install flask\n",
    "!pip install flask_sqlalchemy\n",
    "!pip install flask_jwt_extended\n",
    "!pip install flask_dance\n",
    "!pip install werkzeug"
   ]
  },
  {
   "cell_type": "code",
   "execution_count": 3,
   "metadata": {},
   "outputs": [],
   "source": [
    "from flask import Flask\n",
    "\n",
    "app = Flask(__name__)\n",
    "app.config['SQLALCHEMY_DATABASE_URI'] = 'sqlite:///users.db'\n",
    "app.config['JWT_SECRET_KEY'] = '#Somya2003'"
   ]
  },
  {
   "cell_type": "code",
   "execution_count": 4,
   "metadata": {},
   "outputs": [],
   "source": [
    "from flask_sqlalchemy import SQLAlchemy\n",
    "\n",
    "# Initialize the database\n",
    "\n",
    "db = SQLAlchemy(app)\n",
    "\n",
    "# Define User and Role models\n",
    "class Role(db.Model):\n",
    "    id = db.Column(db.Integer, primary_key=True)\n",
    "    name = db.Column(db.String(50), unique=True)\n",
    "\n",
    "class User(db.Model):\n",
    "    id = db.Column(db.Integer, primary_key=True)\n",
    "    username = db.Column(db.String(50), unique=True)\n",
    "    password = db.Column(db.String(200))\n",
    "    role_id = db.Column(db.Integer, db.ForeignKey('role.id'))\n",
    "    \n",
    "    role = db.relationship('Role', backref='users')\n",
    "\n",
    "# Create database tables within application context\n",
    "with app.app_context():\n",
    "    db.create_all()  # Create database tables if they don't exist"
   ]
  },
  {
   "cell_type": "code",
   "execution_count": 5,
   "metadata": {},
   "outputs": [],
   "source": [
    "from flask import request, jsonify, redirect, url_for\n",
    "from werkzeug.security import generate_password_hash, check_password_hash\n",
    "from flask_jwt_extended import JWTManager, create_access_token, jwt_required, get_jwt_identity\n",
    "\n",
    "# Initialize JWT manager\n",
    "\n",
    "jwt = JWTManager(app)\n",
    "\n",
    "# User registration endpoint\n",
    "@app.route('/register', methods=['POST'])\n",
    "def register():\n",
    "    data = request.get_json()\n",
    "    if not data or not data.get('username') or not data.get('password'):\n",
    "        return jsonify({\"msg\": \"Username and password are required\"}), 400\n",
    "\n",
    "    hashed_password = generate_password_hash(data['password'], method='pbkdf2:sha256', salt_length=16)\n",
    "    new_user = User(username=data['username'], password=hashed_password)\n",
    "\n",
    "    db.session.add(new_user)\n",
    "    db.session.commit()\n",
    "    return jsonify({\"msg\": \"User registered successfully\"}), 201\n",
    "\n",
    "# User login endpoint\n",
    "@app.route('/login', methods=['POST'])\n",
    "def login():\n",
    "    data = request.get_json()\n",
    "    if not data or not data.get('username') or not data.get('password'):\n",
    "        return jsonify({\"msg\": \"Username and password are required\"}), 400\n",
    "\n",
    "    user = User.query.filter_by(username=data['username']).first()\n",
    "    if user and check_password_hash(user.password, data['password']):\n",
    "        access_token = create_access_token(identity={\"username\": user.username})\n",
    "        return jsonify(access_token=access_token), 200\n",
    "\n",
    "    return jsonify({\"msg\": \"Bad username or password\"}), 401"
   ]
  },
  {
   "cell_type": "code",
   "execution_count": 6,
   "metadata": {},
   "outputs": [],
   "source": [
    "from functools import wraps\n",
    "\n",
    "# Protected route example for admin users\n",
    "def role_required(role):\n",
    "    def wrapper(fn):\n",
    "        @wraps(fn)\n",
    "        @jwt_required()\n",
    "        def decorated(*args, **kwargs):\n",
    "            current_user = get_jwt_identity()\n",
    "            if current_user['role'] != role:\n",
    "                return jsonify({\"msg\": \"Access denied\"}), 403\n",
    "            return fn(*args, **kwargs)\n",
    "        return decorated\n",
    "    return wrapper\n",
    "\n",
    "@app.route('/admin', methods=['GET'])\n",
    "@role_required('Admin')\n",
    "def admin_route():\n",
    "    return jsonify({\"msg\": \"Welcome Admin!\"}), 200\n",
    "\n",
    "@app.route('/user', methods=['GET'])\n",
    "@role_required('User')\n",
    "def user_route():\n",
    "    return jsonify({\"msg\": \"Welcome User!\"}), 200"
   ]
  },
  {
   "cell_type": "code",
   "execution_count": 7,
   "metadata": {},
   "outputs": [],
   "source": [
    "from flask_dance.contrib.google import make_google_blueprint, google\n",
    "\n",
    "# OAuth setup for Google authentication\n",
    "google_bp = make_google_blueprint(\n",
    "    client_id='86174551283-oqadmjjkope3qfaff2r7ul0n4ss30k86.apps.googleusercontent.com',\n",
    "    client_secret='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',\n",
    "    redirect_to='google_login'\n",
    ")\n",
    "app.register_blueprint(google_bp, url_prefix='/google_login')"
   ]
  },
  {
   "cell_type": "code",
   "execution_count": null,
   "metadata": {},
   "outputs": [
    {
     "name": "stdout",
     "output_type": "stream",
     "text": [
      " * Serving Flask app '__main__'\n",
      " * Debug mode: off\n"
     ]
    },
    {
     "name": "stderr",
     "output_type": "stream",
     "text": [
      "WARNING: This is a development server. Do not use it in a production deployment. Use a production WSGI server instead.\n",
      " * Running on http://127.0.0.1:5000\n",
      "Press CTRL+C to quit\n",
      "127.0.0.1 - - [27/Nov/2024 18:37:31] \"GET / HTTP/1.1\" 404 -\n",
      "127.0.0.1 - - [27/Nov/2024 18:37:32] \"GET /favicon.ico HTTP/1.1\" 404 -\n",
      "127.0.0.1 - - [27/Nov/2024 18:37:32] \"GET /ws/ws HTTP/1.1\" 404 -\n"
     ]
    }
   ],
   "source": [
    "if __name__ == \"__main__\":\n",
    "    app.run(debug=False)  # Set debug to False"
   ]
  },
  {
   "cell_type": "code",
   "execution_count": null,
   "metadata": {},
   "outputs": [],
   "source": [
    "@app.route('/about')\n",
    "def about():\n",
    "    return \"This is the About page.\""
   ]
  },
  {
   "cell_type": "code",
   "execution_count": null,
   "metadata": {},
   "outputs": [],
   "source": [
    "@app.errorhandler(404)\n",
    "def not_found(error):\n",
    "    return \"This page does not exist.\", 404"
   ]
  },
  {
   "cell_type": "code",
   "execution_count": null,
   "metadata": {},
   "outputs": [
    {
     "name": "stdout",
     "output_type": "stream",
     "text": [
      " * Serving Flask app '__main__'\n",
      " * Debug mode: on\n"
     ]
    },
    {
     "name": "stderr",
     "output_type": "stream",
     "text": [
      "WARNING: This is a development server. Do not use it in a production deployment. Use a production WSGI server instead.\n",
      " * Running on http://127.0.0.1:5000\n",
      "Press CTRL+C to quit\n",
      " * Restarting with watchdog (windowsapi)\n"
     ]
    },
    {
     "ename": "SystemExit",
     "evalue": "1",
     "output_type": "error",
     "traceback": [
      "An exception has occurred, use %tb to see the full traceback.\n",
      "\u001b[1;31mSystemExit\u001b[0m\u001b[1;31m:\u001b[0m 1\n"
     ]
    }
   ],
   "source": []
  }
 ],
 "metadata": {
  "kernelspec": {
   "display_name": "Python 3",
   "language": "python",
   "name": "python3"
  },
  "language_info": {
   "codemirror_mode": {
    "name": "ipython",
    "version": 3
   },
   "file_extension": ".py",
   "mimetype": "text/x-python",
   "name": "python",
   "nbconvert_exporter": "python",
   "pygments_lexer": "ipython3",
   "version": "3.11.2"
  }
 },
 "nbformat": 4,
 "nbformat_minor": 2
}
